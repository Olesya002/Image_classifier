{
  "nbformat": 4,
  "nbformat_minor": 0,
  "metadata": {
    "colab": {
      "provenance": [],
      "authorship_tag": "ABX9TyOtPrspbMyNFWTuyiVNh45f",
      "include_colab_link": true
    },
    "kernelspec": {
      "name": "python3",
      "display_name": "Python 3"
    },
    "language_info": {
      "name": "python"
    }
  },
  "cells": [
    {
      "cell_type": "markdown",
      "metadata": {
        "id": "view-in-github",
        "colab_type": "text"
      },
      "source": [
        "<a href=\"https://colab.research.google.com/github/Olesya002/STC_project/blob/main/UI.ipynb\" target=\"_parent\"><img src=\"https://colab.research.google.com/assets/colab-badge.svg\" alt=\"Open In Colab\"/></a>"
      ]
    },
    {
      "cell_type": "code",
      "source": [
        "pip install gradio\n",
        "pip install piqa"
      ],
      "metadata": {
        "id": "IoSp_WvVJMMJ"
      },
      "execution_count": null,
      "outputs": []
    },
    {
      "cell_type": "code",
      "source": [
        "import gradio as gr\n",
        "from joblib import load\n",
        "import cv2\n",
        "import torch\n",
        "import piqa\n",
        "\n",
        "clf = load('model_svc.joblib')\n",
        "fid_metric = piqa.FID()\n",
        "category = {0: 'document', 1: 'image', 2: 'text-embeded'}\n",
        "\n",
        "def user_greeting(image):\n",
        "    #img_array = imread(image, as_gray=False)\n",
        "    if len(image.shape) != 3 or image.shape[2] != 3:\n",
        "      image =  cv2.cvtColor(image, cv2.COLOR_BGR2RGB)\n",
        "    size = (250, 250)\n",
        "    resized_img = cv2.resize(image, size)\n",
        "    bright_img = cv2.add(resized_img, 50)\n",
        "    img_tensor = torch.tensor(bright_img).permute(2, 0, 1)[None, ...] / 255\n",
        "    img_feats = fid_metric.features(img_tensor).reshape(-1).reshape(1,-1)\n",
        "    res = clf.predict(img_feats)\n",
        "    return category[res[0]]\n",
        "\n",
        "#define gradio interface and other parameters\n",
        "app =  gr.Interface(\n",
        "   fn = user_greeting,\n",
        "   inputs = gr.Image(label='Загрузите изображение (jpg, fpeg, bmp):'),\n",
        "   outputs = gr.components.Textbox(label = 'Класс изображения:'),\n",
        "   allow_flagging=False)\n",
        "\n",
        "app.launch(share = True)"
      ],
      "metadata": {
        "colab": {
          "base_uri": "https://localhost:8080/",
          "height": 732
        },
        "id": "vzSMAKFRID_Y",
        "outputId": "65d3241b-816a-4275-d37d-8fc9a2070013"
      },
      "execution_count": null,
      "outputs": [
        {
          "output_type": "stream",
          "name": "stderr",
          "text": [
            "/usr/local/lib/python3.10/dist-packages/sklearn/base.py:318: UserWarning: Trying to unpickle estimator SVC from version 1.3.1 when using version 1.2.2. This might lead to breaking code or invalid results. Use at your own risk. For more info please refer to:\n",
            "https://scikit-learn.org/stable/model_persistence.html#security-maintainability-limitations\n",
            "  warnings.warn(\n",
            "Downloading: \"https://download.pytorch.org/models/inception_v3_google-0cc3c7bd.pth\" to /root/.cache/torch/hub/checkpoints/inception_v3_google-0cc3c7bd.pth\n",
            "100%|██████████| 104M/104M [00:01<00:00, 69.2MB/s]\n",
            "/usr/local/lib/python3.10/dist-packages/gradio/interface.py:374: UserWarning: The `allow_flagging` parameter in `Interface` nowtakes a string value ('auto', 'manual', or 'never'), not a boolean. Setting parameter to: 'never'.\n",
            "  warnings.warn(\n"
          ]
        },
        {
          "output_type": "stream",
          "name": "stdout",
          "text": [
            "Colab notebook detected. To show errors in colab notebook, set debug=True in launch()\n",
            "Running on public URL: https://d543797488a99b3016.gradio.live\n",
            "\n",
            "This share link expires in 72 hours. For free permanent hosting and GPU upgrades, run `gradio deploy` from Terminal to deploy to Spaces (https://huggingface.co/spaces)\n"
          ]
        },
        {
          "output_type": "display_data",
          "data": {
            "text/plain": [
              "<IPython.core.display.HTML object>"
            ],
            "text/html": [
              "<div><iframe src=\"https://d543797488a99b3016.gradio.live\" width=\"100%\" height=\"500\" allow=\"autoplay; camera; microphone; clipboard-read; clipboard-write;\" frameborder=\"0\" allowfullscreen></iframe></div>"
            ]
          },
          "metadata": {}
        },
        {
          "output_type": "execute_result",
          "data": {
            "text/plain": []
          },
          "metadata": {},
          "execution_count": 5
        }
      ]
    }
  ]
}